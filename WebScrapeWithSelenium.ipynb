{
  "nbformat": 4,
  "nbformat_minor": 0,
  "metadata": {
    "colab": {
      "name": "WebScrapeWithSelenium.ipynb",
      "provenance": [],
      "authorship_tag": "ABX9TyO9xUrlrSK1OGiX1Yb8Wr8u",
      "include_colab_link": true
    },
    "kernelspec": {
      "name": "python3",
      "display_name": "Python 3"
    }
  },
  "cells": [
    {
      "cell_type": "markdown",
      "metadata": {
        "id": "view-in-github",
        "colab_type": "text"
      },
      "source": [
        "<a href=\"https://colab.research.google.com/github/JamesExeter/WebScrapingWithSelenium/blob/main/WebScrapeWithSelenium.ipynb\" target=\"_parent\"><img src=\"https://colab.research.google.com/assets/colab-badge.svg\" alt=\"Open In Colab\"/></a>"
      ]
    },
    {
      "cell_type": "code",
      "metadata": {
        "colab": {
          "base_uri": "https://localhost:8080/",
          "height": 363
        },
        "id": "hsEh85CYwKU8",
        "outputId": "ac9ed11a-ad6a-4b91-a067-65b6a0da96db"
      },
      "source": [
        "from selenium import webdriver\r\n",
        "from selenium.webdriver.common.keys import Keys\r\n",
        "from bs4 import BeautifulSoup\r\n",
        "import re\r\n",
        "import pandas as pd\r\n",
        "from tabulate import tabulate\r\n",
        "import os"
      ],
      "execution_count": 1,
      "outputs": [
        {
          "output_type": "error",
          "ename": "ModuleNotFoundError",
          "evalue": "ignored",
          "traceback": [
            "\u001b[0;31m---------------------------------------------------------------------------\u001b[0m",
            "\u001b[0;31mModuleNotFoundError\u001b[0m                       Traceback (most recent call last)",
            "\u001b[0;32m<ipython-input-1-1a77872c9064>\u001b[0m in \u001b[0;36m<module>\u001b[0;34m()\u001b[0m\n\u001b[0;32m----> 1\u001b[0;31m \u001b[0;32mfrom\u001b[0m \u001b[0mselenium\u001b[0m \u001b[0;32mimport\u001b[0m \u001b[0mwebdriver\u001b[0m\u001b[0;34m\u001b[0m\u001b[0;34m\u001b[0m\u001b[0m\n\u001b[0m\u001b[1;32m      2\u001b[0m \u001b[0;32mfrom\u001b[0m \u001b[0mselenium\u001b[0m\u001b[0;34m.\u001b[0m\u001b[0mwebdriver\u001b[0m\u001b[0;34m.\u001b[0m\u001b[0mcommon\u001b[0m\u001b[0;34m.\u001b[0m\u001b[0mkeys\u001b[0m \u001b[0;32mimport\u001b[0m \u001b[0mKeys\u001b[0m\u001b[0;34m\u001b[0m\u001b[0;34m\u001b[0m\u001b[0m\n\u001b[1;32m      3\u001b[0m \u001b[0;32mfrom\u001b[0m \u001b[0mbs4\u001b[0m \u001b[0;32mimport\u001b[0m \u001b[0mBeautifulSoup\u001b[0m\u001b[0;34m\u001b[0m\u001b[0;34m\u001b[0m\u001b[0m\n\u001b[1;32m      4\u001b[0m \u001b[0;32mimport\u001b[0m \u001b[0mre\u001b[0m\u001b[0;34m\u001b[0m\u001b[0;34m\u001b[0m\u001b[0m\n\u001b[1;32m      5\u001b[0m \u001b[0;32mimport\u001b[0m \u001b[0mpandas\u001b[0m \u001b[0;32mas\u001b[0m \u001b[0mpd\u001b[0m\u001b[0;34m\u001b[0m\u001b[0;34m\u001b[0m\u001b[0m\n",
            "\u001b[0;31mModuleNotFoundError\u001b[0m: No module named 'selenium'",
            "",
            "\u001b[0;31m---------------------------------------------------------------------------\u001b[0;32m\nNOTE: If your import is failing due to a missing package, you can\nmanually install dependencies using either !pip or !apt.\n\nTo view examples of installing some common dependencies, click the\n\"Open Examples\" button below.\n\u001b[0;31m---------------------------------------------------------------------------\u001b[0m\n"
          ]
        }
      ]
    },
    {
      "cell_type": "code",
      "metadata": {
        "id": "WG39dk0V5svs"
      },
      "source": [
        "#launch url\r\n",
        "url = \"http://kanview.ks.gov/PayRates/PayRates_Agency.aspx\"\r\n",
        "\r\n",
        "# create a new firefox session\r\n",
        "driver = webdriver.Firefox()\r\n",
        "driver.implicitly_wait(30)\r\n",
        "driver.get(url)\r\n",
        "\r\n",
        "python_button = driver.find_element_by_id('MainContent_uxLevel1_Agencies_uxAgencyBtn_33') #FHSU\r\n",
        "python_button.click() # click fhsu link"
      ],
      "execution_count": null,
      "outputs": []
    },
    {
      "cell_type": "code",
      "metadata": {
        "id": "R-olHD286Nrl"
      },
      "source": [
        "#Selenium hands the page source to BeautifulSoup\r\n",
        "soup_level1 = BeautifulSoup(driver.page_source, 'lxml')\r\n",
        "\r\n",
        "datalist = [] # empty list\r\n",
        "x = 0 # counter\r\n",
        "\r\n",
        "for link in soup_level1.find_all('a', id=re.compile(\"^MainContent_uxLevel2_JobTitles_uxJobTitleBtn_\")):\r\n",
        "  #Selenium visits each Job Title page\r\n",
        "  python_buttom = driver.find_element_by_id('MainContent_uxLevel2_JobTitles_uxJobTitleBtn_' + str(x))\r\n",
        "  python_button.click() # click link\r\n",
        "\r\n",
        "  #Selenium hands off the source of the specific job page to BeautifulSoup \r\n",
        "  soup_level2 = BeautifulSoup(driver.page_source, 'lxml')\r\n",
        "\r\n",
        "  # BeauitfulSoup grabs the HTML table on the page\r\n",
        "  soup_level2.find_all('table')[0]\r\n",
        "\r\n",
        "  #Giving the HTML table to pandas to put in a df object\r\n",
        "  df = pd.read_html(str(table), header=0)\r\n",
        "  \r\n",
        "  # Store df in a list\r\n",
        "  datalist.append[df[0]] \r\n",
        "\r\n",
        "  # Ask Selinium to click the back button\r\n",
        "  driver.execute_script(\"window_history.go(-1)\")\r\n",
        "\r\n",
        "  # Increment the counter variable before starting the loop over\r\n",
        "  x += 1\r\n"
      ],
      "execution_count": null,
      "outputs": []
    },
    {
      "cell_type": "code",
      "metadata": {
        "id": "fcpRvSsZqnDa"
      },
      "source": [
        "# loop has finished\r\n",
        "\r\n",
        "# end the Selenium browser session\r\n",
        "driver.quit()\r\n",
        "\r\n",
        "# combine all pandas dataframes in the list into one big df\r\n",
        "result = pd.concat([pd.Dataframe(datalist[i]) for i in range(len(datalist))], ignore_index=True)\r\n",
        "\r\n",
        "# convert the df to JSON\r\n",
        "json_records = result.to_json(orient='records')\r\n",
        "\r\n",
        "#pretty print to CLI with tabulate\r\n",
        "#converts to an ascii table\r\n",
        "print(tabulate(result, headers=[\"Employee Name\",\"Job Title\",\"Overtime Pay\",\"Total Gross Pay\"],tablefmt='psql'))"
      ],
      "execution_count": null,
      "outputs": []
    },
    {
      "cell_type": "code",
      "metadata": {
        "id": "EODZDCuDrPAM"
      },
      "source": [
        "# get the current working directory\r\n",
        "path = os.getcwd()\r\n",
        "\r\n",
        "# open, write and close the file\r\n",
        "f = open(path + \"\\\\fhsu_payroll_data.json\", \"w\") #FHSU\r\n",
        "f.write(json_records)\r\n",
        "f.close()"
      ],
      "execution_count": null,
      "outputs": []
    }
  ]
}